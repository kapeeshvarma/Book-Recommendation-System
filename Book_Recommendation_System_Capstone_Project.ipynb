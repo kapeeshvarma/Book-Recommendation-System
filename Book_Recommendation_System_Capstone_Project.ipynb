{
  "nbformat": 4,
  "nbformat_minor": 0,
  "metadata": {
    "colab": {
      "name": "Book Recommendation System - Capstone Project.ipynb",
      "provenance": [],
      "mount_file_id": "1N6NAHU-9_9AekndTAaCxZXeFnsIHQUsk",
      "authorship_tag": "ABX9TyP54hOLE5+ePmLVEynGoDod",
      "include_colab_link": true
    },
    "kernelspec": {
      "name": "python3",
      "display_name": "Python 3"
    },
    "language_info": {
      "name": "python"
    }
  },
  "cells": [
    {
      "cell_type": "markdown",
      "metadata": {
        "id": "view-in-github",
        "colab_type": "text"
      },
      "source": [
        "<a href=\"https://colab.research.google.com/github/kapeeshvarma/Book-Recommendation-System/blob/main/Book_Recommendation_System_Capstone_Project.ipynb\" target=\"_parent\"><img src=\"https://colab.research.google.com/assets/colab-badge.svg\" alt=\"Open In Colab\"/></a>"
      ]
    },
    {
      "cell_type": "markdown",
      "metadata": {
        "id": "YaqYcPAGbnu9"
      },
      "source": [
        "#**BOOK RECOMMENDATION SYSTEM**"
      ]
    },
    {
      "cell_type": "markdown",
      "metadata": {
        "id": "Pw3tiamcbtTd"
      },
      "source": [
        "Recommender systems are algorithms aimed at suggesting relevant items to users (movies, books, products). Recommender systems are really critical in some industries as they can generate a huge amount of income when they are efficient or also be a way to stand out significantly from competitors.\n",
        "\n",
        "In this project, we create a book recommendation system for users through Unsupervised Machine Learning using three datasets - Books.csv, Users.csv, Ratings.csv"
      ]
    },
    {
      "cell_type": "markdown",
      "metadata": {
        "id": "vFYoYazub3i0"
      },
      "source": [
        "##Importing Data and Modules"
      ]
    },
    {
      "cell_type": "code",
      "metadata": {
        "id": "6DCCo2Q4b-NB"
      },
      "source": [
        "# Import the necessary modules\n",
        "import numpy as np\n",
        "import pandas as pd\n",
        "import matplotlib.pyplot as plt\n",
        "import seaborn as sns"
      ],
      "execution_count": 1,
      "outputs": []
    },
    {
      "cell_type": "code",
      "metadata": {
        "colab": {
          "base_uri": "https://localhost:8080/"
        },
        "id": "1LKNIQQTcZPx",
        "outputId": "f29c41cc-af06-4c70-8c07-a3c84913c9b0"
      },
      "source": [
        "# Read in the datasets\n",
        "books = pd.read_csv('/content/drive/MyDrive/Colab Notebooks/Book Recommendation System - Kapeesh Varma/Books.csv')\n",
        "users = pd.read_csv('/content/drive/MyDrive/Colab Notebooks/Book Recommendation System - Kapeesh Varma/Users.csv')\n",
        "ratings = pd.read_csv('/content/drive/MyDrive/Colab Notebooks/Book Recommendation System - Kapeesh Varma/Ratings.csv')"
      ],
      "execution_count": 2,
      "outputs": [
        {
          "output_type": "stream",
          "name": "stderr",
          "text": [
            "/usr/local/lib/python3.7/dist-packages/IPython/core/interactiveshell.py:2718: DtypeWarning: Columns (3) have mixed types.Specify dtype option on import or set low_memory=False.\n",
            "  interactivity=interactivity, compiler=compiler, result=result)\n"
          ]
        }
      ]
    },
    {
      "cell_type": "code",
      "metadata": {
        "id": "WUkt-Cw5c7u2"
      },
      "source": [
        ""
      ],
      "execution_count": null,
      "outputs": []
    }
  ]
}